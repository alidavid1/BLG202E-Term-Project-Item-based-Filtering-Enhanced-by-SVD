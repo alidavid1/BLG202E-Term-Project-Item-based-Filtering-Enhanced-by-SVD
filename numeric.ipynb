{
 "cells": [
  {
   "cell_type": "markdown",
   "id": "36cccb3f-64a3-40c3-a59b-83f03b3a1ddb",
   "metadata": {},
   "source": [
    "Numerical Methods Term Project\n",
    "Ali Davut Eskiocak"
   ]
  },
  {
   "cell_type": "markdown",
   "id": "60fc85c9-e1b7-4afc-99c7-9d219a65014c",
   "metadata": {},
   "source": [
    "Necessary Libraries"
   ]
  },
  {
   "cell_type": "code",
   "execution_count": 121,
   "id": "eb6618bd-e903-4761-b2e6-27dff1934d9f",
   "metadata": {
    "scrolled": true
   },
   "outputs": [],
   "source": [
    "import json\n",
    "from numba import njit\n",
    "from scipy import linalg\n",
    "import jupyter\n",
    "import pandas\n",
    "import numpy as np \n",
    "k = 20"
   ]
  },
  {
   "cell_type": "markdown",
   "id": "d9f0c391-8716-45f8-9e77-32919267bb04",
   "metadata": {},
   "source": [
    "Necessary Functions"
   ]
  },
  {
   "cell_type": "markdown",
   "id": "7b6ce931-003a-4693-a489-943a2f262b89",
   "metadata": {},
   "source": [
    "Data Cleaning"
   ]
  },
  {
   "cell_type": "code",
   "execution_count": 122,
   "id": "2a5ed39b-6f87-495f-843f-a054c780cb69",
   "metadata": {},
   "outputs": [],
   "source": [
    "data = pandas.read_json(\"Desktop/sample.json\")\n",
    "data = data[['reviewer', 'movie', 'rating']]"
   ]
  },
  {
   "cell_type": "markdown",
   "id": "f9e6e213-32c6-476e-9757-4ceba03ff885",
   "metadata": {},
   "source": [
    "Elimination of some users"
   ]
  },
  {
   "cell_type": "code",
   "execution_count": 123,
   "id": "aa8e8013-121e-4aba-b1f8-a7cde52b6b5e",
   "metadata": {},
   "outputs": [],
   "source": [
    "user_counts = data['reviewer'].value_counts()\n",
    "valid_users = user_counts[user_counts >= 20].index.tolist()\n",
    "filtered_data = data[data['reviewer'].isin(valid_users)]\n",
    "data = filtered_data\n",
    "#print(data.head())"
   ]
  },
  {
   "cell_type": "markdown",
   "id": "d17a71f1-76d3-4695-9f20-8c099e663992",
   "metadata": {},
   "source": [
    "Creating a matrix"
   ]
  },
  {
   "cell_type": "code",
   "execution_count": 124,
   "id": "7fbb39c0-d536-46d6-b1cd-11995498650a",
   "metadata": {
    "scrolled": true
   },
   "outputs": [],
   "source": [
    "pivot_table = data.pivot_table(index='reviewer', columns='movie', values='rating')\n",
    "\n",
    "pivot_table = pivot_table.apply(lambda row: row.fillna(row.mean()), axis=1)\n",
    "\n",
    "old_matrix = pivot_table.to_numpy()\n",
    "matrix = old_matrix"
   ]
  },
  {
   "cell_type": "markdown",
   "id": "2bd9e391-5a28-492a-92fa-4e431d5e5f7f",
   "metadata": {},
   "source": [
    "Subtracting Row_avg"
   ]
  },
  {
   "cell_type": "code",
   "execution_count": 125,
   "id": "8b9fdc1a-c109-41cd-a74c-a5ffe9d5cf6e",
   "metadata": {},
   "outputs": [],
   "source": [
    "   average_rows = np.nanmean(matrix, axis=1)\n",
    "   matrix_norm = matrix\n",
    "   for i in range(matrix.shape[0]):\n",
    "       matrix_norm[i] = matrix[i] - average_rows[i]"
   ]
  },
  {
   "cell_type": "code",
   "execution_count": 126,
   "id": "c9e8d33a-743e-47b8-a3a8-b86504828c51",
   "metadata": {},
   "outputs": [],
   "source": [
    "matrix = matrix_norm"
   ]
  },
  {
   "cell_type": "markdown",
   "id": "3998af98-2ba7-4a79-ba19-4d6f23474456",
   "metadata": {},
   "source": [
    "SVD Decomposition"
   ]
  },
  {
   "cell_type": "code",
   "execution_count": 127,
   "id": "b4043666-e746-424b-b08b-206de9e3e2fe",
   "metadata": {},
   "outputs": [],
   "source": [
    "U, S, Vt = np.linalg.svd(matrix)\n",
    "Sd = np.diag(S)"
   ]
  },
  {
   "cell_type": "code",
   "execution_count": 140,
   "id": "b04b1a1c-0397-4f8f-85d1-ecf936186a68",
   "metadata": {
    "scrolled": true
   },
   "outputs": [
    {
     "name": "stdout",
     "output_type": "stream",
     "text": [
      "Number of rows: 362\n",
      "Number of columns: 362\n"
     ]
    }
   ],
   "source": [
    "U_rows, U_cols = U.shape\n",
    "print(\"Number of rows:\", U_rows)\n",
    "print(\"Number of columns:\", U_cols)"
   ]
  },
  {
   "cell_type": "code",
   "execution_count": 141,
   "id": "b6c0590d-b837-406b-9fdc-2d3169aa94ee",
   "metadata": {},
   "outputs": [
    {
     "name": "stdout",
     "output_type": "stream",
     "text": [
      "Number of rows: 362\n",
      "Number of columns: 362\n"
     ]
    }
   ],
   "source": [
    "Sd_rows, Sd_cols = Sd.shape\n",
    "print(\"Number of rows:\", Sd_rows)\n",
    "print(\"Number of columns:\", Sd_cols)"
   ]
  },
  {
   "cell_type": "code",
   "execution_count": 142,
   "id": "938b4b83-ce47-4633-9646-a24f7a8d7b09",
   "metadata": {},
   "outputs": [
    {
     "name": "stdout",
     "output_type": "stream",
     "text": [
      "Number of rows: 11321\n",
      "Number of columns: 11321\n"
     ]
    }
   ],
   "source": [
    "Vt_rows, Vt_cols = Vt.shape\n",
    "print(\"Number of rows:\", Vt_rows)\n",
    "print(\"Number of columns:\", Vt_cols)"
   ]
  },
  {
   "cell_type": "markdown",
   "id": "c5d9fe5e-3563-46a9-9075-6e101966c5f5",
   "metadata": {},
   "source": [
    "Expanding S to enable multiplication"
   ]
  },
  {
   "cell_type": "code",
   "execution_count": 131,
   "id": "838f2ce1-b425-4e0c-96d1-b6b05fb2eea7",
   "metadata": {},
   "outputs": [],
   "source": [
    "new_cols = Vt_rows\n",
    "expanded_S = np.zeros((Sd_rows, new_cols))\n",
    "\n",
    "# Fill the diagonal of the expanded matrix with the diagonal elements of the original S\n",
    "np.fill_diagonal(expanded_S[:, :Sd_rows], Sd)"
   ]
  },
  {
   "cell_type": "code",
   "execution_count": 132,
   "id": "3580ed50-3d93-45da-bf09-ba9b664608e7",
   "metadata": {},
   "outputs": [],
   "source": [
    "Uk = np.transpose(U)[:k].T\n",
    "Sk = np.diag(S[:k])                     \n",
    "Vtk = Vt[:k]"
   ]
  },
  {
   "cell_type": "code",
   "execution_count": 133,
   "id": "6c2cee8b-58d2-405d-9a8d-5ee2ebae8060",
   "metadata": {},
   "outputs": [],
   "source": [
    "R_reduced = Uk @ Sk @ Vtk"
   ]
  },
  {
   "cell_type": "markdown",
   "id": "26c9a5c8-348d-4fc6-8bed-778d9bfa9b37",
   "metadata": {},
   "source": [
    "Users and Movies"
   ]
  },
  {
   "cell_type": "code",
   "execution_count": 134,
   "id": "2c01b659-afc5-4582-97b9-1b4f97209457",
   "metadata": {},
   "outputs": [],
   "source": [
    "movies = np.sqrt(Sk) @ Vtk"
   ]
  },
  {
   "cell_type": "markdown",
   "id": "f8e90676-bf17-4f63-a6f4-90c948a6bf6d",
   "metadata": {},
   "source": [
    "Function that calculates similarity"
   ]
  },
  {
   "cell_type": "code",
   "execution_count": 135,
   "id": "2e50e649-2c52-4c82-8be8-2dc79d107278",
   "metadata": {},
   "outputs": [],
   "source": [
    "@njit\n",
    "def similarity(i_J, i_k, array):\n",
    "    a, b, c = 0, 0, 0 \n",
    "    global k\n",
    "    for i in range(k):\n",
    "        a += array[i][i_J] * array[i][i_k] \n",
    "        b += array[i][i_k] * array[i][i_k]\n",
    "        c += array[i][i_J] * array[i][i_J]\n",
    "    \n",
    "    s = a / ((b * c) ** (1/2))\n",
    "    return s"
   ]
  },
  {
   "cell_type": "markdown",
   "id": "8b67a025-aed9-4c56-9892-bb4e715cc3c0",
   "metadata": {},
   "source": [
    "Function which makes prediction"
   ]
  },
  {
   "cell_type": "code",
   "execution_count": 136,
   "id": "6328b683-7866-4777-a54a-9b5027a00085",
   "metadata": {},
   "outputs": [],
   "source": [
    "@njit\n",
    "def predict(a, j, array): \n",
    "    \n",
    "    s = np.array([similarity(j, i, array) for i in range(array.shape[1])])\n",
    "    m, n = 0, 0\n",
    "    neighborhood = 20\n",
    "    sorted_list = np.flip(np.argsort(s))\n",
    "    for i in range(neighborhood):\n",
    "        index = sorted_list[i]\n",
    "        m += similarity(j, index, array) * (array[a][index] + average_rows[a])\n",
    "        n += np.abs(similarity(j, index, array))\n",
    "    x = m/n\n",
    "    return x\n"
   ]
  },
  {
   "cell_type": "markdown",
   "id": "f9ed00fc-5601-4c8a-96e1-0d8c1e202a37",
   "metadata": {},
   "source": [
    "Creating Prediction Table"
   ]
  },
  {
   "cell_type": "code",
   "execution_count": 143,
   "id": "2a3e3e4c-eb5b-4e42-8424-56218095c715",
   "metadata": {},
   "outputs": [],
   "source": [
    "@njit\n",
    "def table(array):\n",
    "    Prediction = [[0] * len(array[0]) for _ in range(len(array))]\n",
    "    for i in range(len(array)):\n",
    "        for j in range(len(array[0])):\n",
    "            Prediction[i][j] = predict(i, j, matrix)\n",
    "    return Prediction"
   ]
  },
  {
   "cell_type": "code",
   "execution_count": 138,
   "id": "4471de17-05f7-451a-a60e-efeb6ca950c4",
   "metadata": {},
   "outputs": [],
   "source": [
    "@njit\n",
    "def calculate_mae(matrix):\n",
    "    mae = 0\n",
    "    a = table(matrix)\n",
    "    for i in range(matrix.shape[0]):\n",
    "        for j in range(matrix.shape[1]):\n",
    "            mae += np.abs(a[i][j] - (matrix[i][j] + average_rows[i]))\n",
    "    mae /= float(matrix.size)\n",
    "    return mae"
   ]
  },
  {
   "cell_type": "code",
   "execution_count": 139,
   "id": "b95ed6ae-2878-4ce3-aa5c-529cdd1af959",
   "metadata": {
    "scrolled": true
   },
   "outputs": [
    {
     "name": "stdout",
     "output_type": "stream",
     "text": [
      "0.46976290663945197\n"
     ]
    }
   ],
   "source": [
    "print(calculate_mae(R_reduced))"
   ]
  },
  {
   "cell_type": "code",
   "execution_count": null,
   "id": "de4d7ccf-a6d1-475a-860c-22921d212810",
   "metadata": {},
   "outputs": [],
   "source": []
  },
  {
   "cell_type": "code",
   "execution_count": null,
   "id": "2a337b36-5c43-4066-82c2-8c0e982db08a",
   "metadata": {},
   "outputs": [],
   "source": []
  }
 ],
 "metadata": {
  "kernelspec": {
   "display_name": "Python 3 (ipykernel)",
   "language": "python",
   "name": "python3"
  },
  "language_info": {
   "codemirror_mode": {
    "name": "ipython",
    "version": 3
   },
   "file_extension": ".py",
   "mimetype": "text/x-python",
   "name": "python",
   "nbconvert_exporter": "python",
   "pygments_lexer": "ipython3",
   "version": "3.11.7"
  }
 },
 "nbformat": 4,
 "nbformat_minor": 5
}
